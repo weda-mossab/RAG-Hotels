{
  "cells": [
    {
      "cell_type": "markdown",
      "metadata": {
        "id": "JejNB7rGIfCU"
      },
      "source": [
        "#1. Nettoyage des données\n",
        "\n",
        "---\n",
        "\n"
      ]
    },
    {
      "cell_type": "code",
      "execution_count": 1,
      "metadata": {
        "id": "RFDD_Yz8HqxZ"
      },
      "outputs": [],
      "source": [
        "import pandas as pd\n",
        "import os\n",
        "\n",
        "# Check if the file exists\n",
        "file_path = \"/content/hotels.xlsx\"\n",
        "if not os.path.exists(file_path):\n",
        "    print(f\"Error: File '{file_path}' not found.\")\n",
        "    df_hotels = None\n",
        "else:\n",
        "    try:\n",
        "        xls = pd.ExcelFile(file_path)\n",
        "        df_hotels = xls.parse('Hotels')\n",
        "        df_comments = xls.parse('Commentaires')\n",
        "        df_questions = xls.parse('QuestionReponse')\n",
        "    except Exception as e:\n",
        "        print(f\"An error occurred while reading the Excel file: {e}\")\n",
        "        df_hotels = None"
      ]
    },
    {
      "cell_type": "code",
      "execution_count": 2,
      "metadata": {
        "colab": {
          "base_uri": "https://localhost:8080/"
        },
        "id": "nh9S-A-hIIih",
        "outputId": "d24d993d-2ed6-44c3-e904-e3dd838939fe"
      },
      "outputs": [
        {
          "output_type": "stream",
          "name": "stdout",
          "text": [
            "Lieu                          object\n",
            "Nom HOTEL                     object\n",
            "adresse                       object\n",
            "Etoile                        object\n",
            "Prix                           int64\n",
            "Rate nominal                  object\n",
            "Rate ordinal                  object\n",
            "Expériences vécues            object\n",
            "points fort                   object\n",
            "Lieux à proximité             object\n",
            "Restaurants et cafés          object\n",
            "Plages à proximité            object\n",
            "Transports en commun          object\n",
            "Aéroports les plus proches    object\n",
            "a savoir                      object\n",
            "Enfants et lits               object\n",
            "Arrive                        object\n",
            "depart                        object\n",
            "restriction d'age             object\n",
            "Animaux domestiques           object\n",
            "dtype: object\n",
            "\n",
            "Missing Values:\n",
            " Lieu                          0\n",
            "Nom HOTEL                     0\n",
            "adresse                       0\n",
            "Etoile                        0\n",
            "Prix                          0\n",
            "Rate nominal                  0\n",
            "Rate ordinal                  0\n",
            "Expériences vécues            0\n",
            "points fort                   0\n",
            "Lieux à proximité             0\n",
            "Restaurants et cafés          0\n",
            "Plages à proximité            0\n",
            "Transports en commun          0\n",
            "Aéroports les plus proches    0\n",
            "a savoir                      0\n",
            "Enfants et lits               0\n",
            "Arrive                        0\n",
            "depart                        0\n",
            "restriction d'age             0\n",
            "Animaux domestiques           0\n",
            "dtype: int64\n",
            "\n",
            "Missing Value Percentage:\n",
            " Lieu                          0.0\n",
            "Nom HOTEL                     0.0\n",
            "adresse                       0.0\n",
            "Etoile                        0.0\n",
            "Prix                          0.0\n",
            "Rate nominal                  0.0\n",
            "Rate ordinal                  0.0\n",
            "Expériences vécues            0.0\n",
            "points fort                   0.0\n",
            "Lieux à proximité             0.0\n",
            "Restaurants et cafés          0.0\n",
            "Plages à proximité            0.0\n",
            "Transports en commun          0.0\n",
            "Aéroports les plus proches    0.0\n",
            "a savoir                      0.0\n",
            "Enfants et lits               0.0\n",
            "Arrive                        0.0\n",
            "depart                        0.0\n",
            "restriction d'age             0.0\n",
            "Animaux domestiques           0.0\n",
            "dtype: float64\n"
          ]
        }
      ],
      "source": [
        "# Check data types\n",
        "print(df_hotels.dtypes)\n",
        "\n",
        "# Check for missing values\n",
        "missing_values = df_hotels.isnull().sum()\n",
        "missing_percentage = (missing_values / len(df_hotels)) * 100\n",
        "print(\"\\nMissing Values:\\n\", missing_values)\n",
        "print(\"\\nMissing Value Percentage:\\n\", missing_percentage)"
      ]
    },
    {
      "cell_type": "code",
      "execution_count": 3,
      "metadata": {
        "colab": {
          "base_uri": "https://localhost:8080/"
        },
        "id": "rrsyyE7i05gR",
        "outputId": "904f2779-52a0-421b-b5fc-2ed38c00b06e"
      },
      "outputs": [
        {
          "output_type": "stream",
          "name": "stdout",
          "text": [
            "nom hotel           object\n",
            "Note                object\n",
            "Titre               object\n",
            "Commentaire         object\n",
            "Date commentaire    object\n",
            "dtype: object\n",
            "\n",
            "Missing Values:\n",
            " nom hotel            0\n",
            "Note                17\n",
            "Titre                0\n",
            "Commentaire          0\n",
            "Date commentaire    17\n",
            "dtype: int64\n",
            "\n",
            "Missing Value Percentage:\n",
            " nom hotel           0.000000\n",
            "Note                0.458468\n",
            "Titre               0.000000\n",
            "Commentaire         0.000000\n",
            "Date commentaire    0.458468\n",
            "dtype: float64\n"
          ]
        }
      ],
      "source": [
        "# Check data types\n",
        "print(df_comments.dtypes)\n",
        "\n",
        "# Check for missing values\n",
        "missing_values = df_comments.isnull().sum()\n",
        "missing_percentage = (missing_values / len(df_comments)) * 100\n",
        "print(\"\\nMissing Values:\\n\", missing_values)\n",
        "print(\"\\nMissing Value Percentage:\\n\", missing_percentage)"
      ]
    },
    {
      "cell_type": "code",
      "execution_count": 4,
      "metadata": {
        "colab": {
          "base_uri": "https://localhost:8080/"
        },
        "id": "jcEVRYdA056_",
        "outputId": "84d9edf6-bab3-4668-a230-63e21940016a"
      },
      "outputs": [
        {
          "output_type": "stream",
          "name": "stdout",
          "text": [
            "nom hotel      object\n",
            "question       object\n",
            "answer_text    object\n",
            "dtype: object\n",
            "\n",
            "Missing Values:\n",
            " nom hotel      0\n",
            "question       0\n",
            "answer_text    0\n",
            "dtype: int64\n",
            "\n",
            "Missing Value Percentage:\n",
            " nom hotel      0.0\n",
            "question       0.0\n",
            "answer_text    0.0\n",
            "dtype: float64\n"
          ]
        }
      ],
      "source": [
        "# Check data types\n",
        "print(df_questions.dtypes)\n",
        "\n",
        "# Check for missing values\n",
        "missing_values = df_questions.isnull().sum()\n",
        "missing_percentage = (missing_values / len(df_questions)) * 100\n",
        "print(\"\\nMissing Values:\\n\", missing_values)\n",
        "print(\"\\nMissing Value Percentage:\\n\", missing_percentage)"
      ]
    },
    {
      "cell_type": "code",
      "execution_count": 5,
      "metadata": {
        "id": "CUfJbYMoIKKl"
      },
      "outputs": [],
      "source": [
        "import re\n",
        "# Function to clean text (remove special characters, accents)\n",
        "def clean_text(text):\n",
        "    if isinstance(text, str):\n",
        "        text = text.lower()\n",
        "        text = re.sub(r'[éèêë]', 'e', text)\n",
        "        text = re.sub(r'[àâä]', 'a', text)\n",
        "        text = re.sub(r'[îï]', 'i', text)\n",
        "        text = re.sub(r'[ôö]', 'o', text)\n",
        "        text = re.sub(r'[ùûü]', 'u', text)\n",
        "        text = re.sub(r'[^a-zA-Z0-9\\s,]', '', text)  # Remove special characters\n",
        "    return text\n",
        "\n",
        "# Cleaning Hotels sheet\n",
        "df_hotels = df_hotels.rename(columns=lambda x: clean_text(x))  # Normalize column names\n",
        "df_hotels['nom hotel'] = df_hotels['nom hotel'].apply(clean_text)\n",
        "df_hotels['etoile'] = pd.to_numeric(df_hotels['etoile'], errors='coerce')  # Convert stars to numeric\n",
        "df_hotels['prix'] = pd.to_numeric(df_hotels['prix'], errors='coerce')  # Convert price to numeric\n",
        "\n",
        "# Cleaning Commentaires sheet\n",
        "df_comments = df_comments.rename(columns=lambda x: clean_text(x))\n",
        "df_comments['nom hotel'] = df_comments['nom hotel'].apply(clean_text)\n",
        "df_comments['note'] = df_comments['note'].astype(str).str.replace(',', '.').astype(float)  # Convert ratings to float\n",
        "\n",
        "# Cleaning QuestionReponse sheet\n",
        "df_questions = df_questions.rename(columns=lambda x: clean_text(x))\n",
        "df_questions['nom hotel'] = df_questions['nom hotel'].apply(clean_text)\n"
      ]
    },
    {
      "cell_type": "markdown",
      "source": [
        "## Normalize the locations ' jandouba and jendouba , delete the duplicated hotels"
      ],
      "metadata": {
        "id": "lOJQGZcyneya"
      }
    },
    {
      "cell_type": "markdown",
      "metadata": {
        "id": "2TGu6bkGJ8E2"
      },
      "source": [
        "#3. Préparation des données pour le ChatBot"
      ]
    },
    {
      "cell_type": "markdown",
      "metadata": {
        "id": "P8huzRJI1nXn"
      },
      "source": [
        "##3.1 Convertion vers Json"
      ]
    },
    {
      "cell_type": "code",
      "execution_count": 6,
      "metadata": {
        "colab": {
          "base_uri": "https://localhost:8080/"
        },
        "id": "pNmqqQjd1qT5",
        "outputId": "018087a4-63a9-4a80-cfc7-4795138860f4"
      },
      "outputs": [
        {
          "output_type": "stream",
          "name": "stdout",
          "text": [
            "JSON file saved at: hotels_data.json\n"
          ]
        }
      ],
      "source": [
        "import json\n",
        "import numpy as np\n",
        "# Assign unique hotel IDs\n",
        "df_hotels['hotel_id'] = np.arange(1, len(df_hotels) + 1)\n",
        "\n",
        "# Merge comments and questions with hotel data\n",
        "hotels_json = []\n",
        "for _, hotel in df_hotels.iterrows():\n",
        "    hotel_id = hotel['hotel_id']\n",
        "    hotel_name = hotel['nom hotel']\n",
        "\n",
        "    # Extract comments for the current hotel\n",
        "    comments = df_comments[df_comments['nom hotel'] == hotel_name][['titre', 'commentaire', 'note', 'date commentaire']].to_dict(orient='records')\n",
        "\n",
        "    # Extract questions & answers for the current hotel\n",
        "    questions = df_questions[df_questions['nom hotel'] == hotel_name][['question', 'answertext']].to_dict(orient='records')\n",
        "\n",
        "    # Construct hotel JSON object\n",
        "    hotel_data = {\n",
        "        \"hotel_id\": int(hotel_id),\n",
        "        \"name\": hotel['nom hotel'],\n",
        "        \"location\": hotel['lieu'],\n",
        "        \"address\": hotel['adresse'],\n",
        "        \"stars\": hotel['etoile'],\n",
        "        \"price\": hotel['prix'],\n",
        "        \"rating\": hotel['rate nominal'],\n",
        "        \"features\": hotel['points fort'],\n",
        "        \"nearby_places\": hotel['lieux a proximite'],\n",
        "        \"nearby_beaches\": hotel['plages a proximite'],\n",
        "        \"transport\": hotel['transports en commun'],\n",
        "        \"airports\": hotel['aeroports les plus proches'],\n",
        "        \"policies\": {\n",
        "            \"checkin\": hotel['arrive'],\n",
        "            \"checkout\": hotel['depart'],\n",
        "            \"age_restriction\": hotel['restriction dage'],\n",
        "            \"pets\": hotel['animaux domestiques'],\n",
        "            \"children_beds\": hotel['enfants et lits']\n",
        "        },\n",
        "        \"additional_info\": hotel['a savoir'],\n",
        "        \"comments\": comments,\n",
        "        \"faq\": questions\n",
        "    }\n",
        "\n",
        "    hotels_json.append(hotel_data)\n",
        "\n",
        "# Save to JSON file\n",
        "json_output_path = \"hotels_data.json\"\n",
        "with open(json_output_path, \"w\", encoding=\"utf-8\") as json_file:\n",
        "    json.dump(hotels_json, json_file, indent=4, ensure_ascii=False)\n",
        "\n",
        "print(f\"JSON file saved at: {json_output_path}\")"
      ]
    },
    {
      "cell_type": "code",
      "source": [
        "# un peu de temps pour qu'il enregistre le fichier json\n",
        "import time\n",
        "time.sleep(5)\n"
      ],
      "metadata": {
        "id": "E5ZG0qwrQNdj"
      },
      "execution_count": 7,
      "outputs": []
    },
    {
      "cell_type": "markdown",
      "source": [
        "# 3.2 Choix des informations"
      ],
      "metadata": {
        "id": "JUNw-c-eK-F_"
      }
    },
    {
      "cell_type": "markdown",
      "source": [
        "j'ai voulu travaillez avec les commentaires mais les chunks sont trés grandes et prend beaucoup de temps ( plus que 3 heures )"
      ],
      "metadata": {
        "id": "B5SJduFMLIbg"
      }
    },
    {
      "cell_type": "code",
      "source": [
        "import ast\n",
        "df_hotels = pd.read_json('hotels_data.json')\n",
        "\n",
        "# nettoyage des espaces dans les caractéristiques et les plages\n",
        "if df_hotels is not None and 'nearby_beaches' in df_hotels.columns:\n",
        "  for index, row in df_hotels.iterrows():\n",
        "    if isinstance(row['nearby_beaches'], str):\n",
        "      df_hotels.at[index, 'nearby_beaches'] = row['nearby_beaches'].replace('\\\\n', ' ')\n",
        "  print(df_hotels[\"nearby_beaches\"])\n",
        "else:\n",
        "  print(\"DataFrame or 'nearby_beaches' column not found.\")\n",
        "\n",
        "def clean_list_field(field_value):\n",
        "    try:\n",
        "        items = ast.literal_eval(field_value)\n",
        "        if isinstance(items, list):\n",
        "            cleaned = list(dict.fromkeys([item.replace('\\\\n', ' ').strip().lower() for item in items if isinstance(item, str)]))\n",
        "            return ', '.join(cleaned)\n",
        "    except Exception:\n",
        "        pass\n",
        "    return 'non renseigné'\n",
        "df_hotels['features'] = df_hotels['features'].apply(clean_list_field)\n",
        "df_hotels['nearby_beaches'] = df_hotels['nearby_beaches'].apply(clean_list_field)"
      ],
      "metadata": {
        "colab": {
          "base_uri": "https://localhost:8080/"
        },
        "id": "Go5qy3FLLHr0",
        "outputId": "6855289a-012a-4cb7-bba6-7352fbd28b60"
      },
      "execution_count": 8,
      "outputs": [
        {
          "output_type": "stream",
          "name": "stdout",
          "text": [
            "0      ['Plage de Boujaafar 500 m', 'Plage de Bhar Ez...\n",
            "1      ['Plage de Bhar Ezzebla 750 m', 'Plage de Bouj...\n",
            "2      ['Las Vegas Beach 850 m', 'Plage de Boujaafar ...\n",
            "3      ['Plage de Boujaafar 600 m', 'Plage de Bhar Ez...\n",
            "4      ['Plage de Boujaafar 700 m', 'Plage de Bhar Ez...\n",
            "                             ...                        \n",
            "392    [\"Plages d'Hammamet 50 m\", 'Plage du Sentido A...\n",
            "393    [\"Plages d'Hammamet 10 m\", 'Plage de Yasmine H...\n",
            "394    ['Plage de Mrezga 450 m', 'Plage de Hammamet 1...\n",
            "395    [\"Plages d'Hammamet 650 m\", 'Plage de Yasmine ...\n",
            "396    ['Plage de Yasmine Hammamet 550 m', \"Plages d'...\n",
            "Name: nearby_beaches, Length: 397, dtype: object\n"
          ]
        }
      ]
    },
    {
      "cell_type": "code",
      "source": [
        "# générer une colonne qui combine tous les informations d'un seul hotel\n",
        "def generate_text(row):\n",
        "    name = row.get('name', 'nom inconnu')\n",
        "    location = row.get('location', 'localisation inconnue')\n",
        "    price = row.get('price', 'prix non renseigné')\n",
        "    rating = row.get('rating', 'note non disponible')\n",
        "\n",
        "    features = row.get('features', 'non renseigné')\n",
        "    beaches = row.get('nearby_beaches', 'non renseigné')\n",
        "\n",
        "    return (\n",
        "        f\"Nom de l'hôtel : {name}.\\n\"\n",
        "        f\"Localisation : {location}.\\n\"\n",
        "        f\"Prix : {price} TND par nuit.\\n\"\n",
        "        f\"Note : {rating}.\\n\"\n",
        "        f\"Caractéristiques : {features}.\\n\"\n",
        "        f\"Plages à proximité : {beaches}.\\n\"\n",
        "    )\n",
        "\n",
        "df_hotels['text'] = df_hotels.apply(generate_text, axis=1)\n",
        "df_hotels['text'][0]"
      ],
      "metadata": {
        "colab": {
          "base_uri": "https://localhost:8080/",
          "height": 70
        },
        "id": "Soi9cS6NLfZQ",
        "outputId": "fc78d69b-5bce-4099-de9c-fafc58fb8559"
      },
      "execution_count": 9,
      "outputs": [
        {
          "output_type": "execute_result",
          "data": {
            "text/plain": [
              "\"Nom de l'hôtel : sousse pearl marriott resort  spa.\\nLocalisation : Sousse.\\nPrix : 152 TND par nuit.\\nNote : Avec une note de 8,2.\\nCaractéristiques : 4 piscines, navette aéroport, chambres non-fumeurs, parking gratuit, connexion wi-fi gratuite, service d'étage, équipements pour les personnes handicapées, bar, plage privée, très bon petit-déjeuner.\\nPlages à proximité : plage de boujaafar 500 m, plage de bhar ezzebla 1,3 km, las vegas beach 2,4 km, plage du thalassa sousse 4 km, plage hammam sousse 6 km.\\n\""
            ],
            "application/vnd.google.colaboratory.intrinsic+json": {
              "type": "string"
            }
          },
          "metadata": {},
          "execution_count": 9
        }
      ]
    },
    {
      "cell_type": "markdown",
      "source": [
        "# Embedding"
      ],
      "metadata": {
        "id": "4Tpk5tFLLiza"
      }
    },
    {
      "cell_type": "code",
      "execution_count": 10,
      "metadata": {
        "colab": {
          "base_uri": "https://localhost:8080/"
        },
        "id": "zr7e2o4RTPV1",
        "outputId": "f1ba47cf-6843-49c7-d18f-60f7c059fdcf"
      },
      "outputs": [
        {
          "output_type": "stream",
          "name": "stdout",
          "text": [
            "Requirement already satisfied: language_tool_python in /usr/local/lib/python3.11/dist-packages (2.9.3)\n",
            "Requirement already satisfied: requests in /usr/local/lib/python3.11/dist-packages (from language_tool_python) (2.32.3)\n",
            "Requirement already satisfied: tqdm in /usr/local/lib/python3.11/dist-packages (from language_tool_python) (4.67.1)\n",
            "Requirement already satisfied: psutil in /usr/local/lib/python3.11/dist-packages (from language_tool_python) (5.9.5)\n",
            "Requirement already satisfied: toml in /usr/local/lib/python3.11/dist-packages (from language_tool_python) (0.10.2)\n",
            "Requirement already satisfied: charset-normalizer<4,>=2 in /usr/local/lib/python3.11/dist-packages (from requests->language_tool_python) (3.4.1)\n",
            "Requirement already satisfied: idna<4,>=2.5 in /usr/local/lib/python3.11/dist-packages (from requests->language_tool_python) (3.10)\n",
            "Requirement already satisfied: urllib3<3,>=1.21.1 in /usr/local/lib/python3.11/dist-packages (from requests->language_tool_python) (2.4.0)\n",
            "Requirement already satisfied: certifi>=2017.4.17 in /usr/local/lib/python3.11/dist-packages (from requests->language_tool_python) (2025.4.26)\n"
          ]
        }
      ],
      "source": [
        "# Installation des bibliothèques nécessaires\n",
        "!pip install langchain langchain-community pypdf chromadb -q\n",
        "!pip install langchain_groq -q\n",
        "!pip install -U langchain-huggingface -q\n",
        "!pip install -U langchain-chroma -q\n",
        "!pip install gradio -q\n",
        "\n",
        "!pip install language_tool_python"
      ]
    },
    {
      "cell_type": "code",
      "execution_count": 11,
      "metadata": {
        "id": "CKK0VENVTIDS"
      },
      "outputs": [],
      "source": [
        "# Importations\n",
        "from langchain.text_splitter import RecursiveCharacterTextSplitter\n",
        "from langchain_huggingface import HuggingFaceEmbeddings\n",
        "from langchain_community.vectorstores import Chroma\n",
        "from langchain.chains import RetrievalQA\n",
        "from langchain_groq import ChatGroq\n",
        "from langchain.prompts import PromptTemplate\n",
        "from langchain.schema import Document\n",
        "\n",
        "import os\n",
        "import gradio as gr\n",
        "import json"
      ]
    },
    {
      "cell_type": "markdown",
      "source": [
        "on a choisi le e5-large-v2 au lieu de all MiniLM-v6 car il gére plus de token ( 1024 aux lieu de 384) et plus adapté pour les descriptions détaillées des hotels mais il prend beaucoup de temps"
      ],
      "metadata": {
        "id": "WphC6fKjNe7A"
      }
    },
    {
      "cell_type": "code",
      "source": [
        "# Initialize the Hugging Face embeddings model\n",
        "embedding_function = HuggingFaceEmbeddings(model_name=\"intfloat/e5-large-v2\")\n",
        "\n",
        "# Generate embeddings for the 'text' column\n",
        "hotel_embeddings = embedding_function.embed_documents(df_hotels['text'].tolist())\n",
        "\n",
        "# Print the shape of the embeddings\n",
        "print(f\"Shape of the embeddings: {len(hotel_embeddings)}, {len(hotel_embeddings[0])}\")"
      ],
      "metadata": {
        "colab": {
          "base_uri": "https://localhost:8080/"
        },
        "id": "y5OeZRNENcGh",
        "outputId": "b4a9cf6e-8c91-453a-fe48-4aac85c74240"
      },
      "execution_count": 12,
      "outputs": [
        {
          "output_type": "stream",
          "name": "stderr",
          "text": [
            "/usr/local/lib/python3.11/dist-packages/huggingface_hub/utils/_auth.py:94: UserWarning: \n",
            "The secret `HF_TOKEN` does not exist in your Colab secrets.\n",
            "To authenticate with the Hugging Face Hub, create a token in your settings tab (https://huggingface.co/settings/tokens), set it as secret in your Google Colab and restart your session.\n",
            "You will be able to reuse this secret in all of your notebooks.\n",
            "Please note that authentication is recommended but still optional to access public models or datasets.\n",
            "  warnings.warn(\n"
          ]
        },
        {
          "output_type": "stream",
          "name": "stdout",
          "text": [
            "Shape of the embeddings: 397, 1024\n"
          ]
        }
      ]
    },
    {
      "cell_type": "markdown",
      "source": [
        "le choix des chunk est :\n",
        "\n",
        "\n",
        "*   size 300 et overlap 50 : trop petit et génére des erreurs\n",
        "*   size 1200 et overlap 350 : prend plus que 3 heures pour executer\n",
        "*   size 1000 et overlap 300 : parfait pour les hotels sans les commentaires"
      ],
      "metadata": {
        "id": "wDfJAP8OObiE"
      }
    },
    {
      "cell_type": "code",
      "execution_count": 13,
      "metadata": {
        "id": "09yXlzpaKBtA",
        "colab": {
          "base_uri": "https://localhost:8080/"
        },
        "outputId": "0ef18cfd-8a51-44e3-ffee-ef742e73f702"
      },
      "outputs": [
        {
          "output_type": "stream",
          "name": "stdout",
          "text": [
            "Création d'une nouvelle base Chroma...\n"
          ]
        },
        {
          "output_type": "stream",
          "name": "stderr",
          "text": [
            "<ipython-input-13-a0aec874136f>:20: LangChainDeprecationWarning: Since Chroma 0.4.x the manual persistence method is no longer supported as docs are automatically persisted.\n",
            "  vectorstore.persist()\n",
            "<ipython-input-13-a0aec874136f>:23: LangChainDeprecationWarning: The class `Chroma` was deprecated in LangChain 0.2.9 and will be removed in 1.0. An updated version of the class exists in the :class:`~langchain-chroma package and should be used instead. To use it run `pip install -U :class:`~langchain-chroma` and import as `from :class:`~langchain_chroma import Chroma``.\n",
            "  vectorstore = Chroma(\n"
          ]
        }
      ],
      "source": [
        "# Split the text into chunks\n",
        "splitter = RecursiveCharacterTextSplitter(chunk_size=800, chunk_overlap=100)\n",
        "documents = [Document(page_content=t) for t in df_hotels['text'].tolist()]\n",
        "split_docs = splitter.split_documents(documents)\n",
        "\n",
        "# Persisted vectorstore\n",
        "persist_directory = \"chroma_db\"\n",
        "\n",
        "if os.path.exists(persist_directory):\n",
        "    print(\"Chargement de la base Chroma existante...\")\n",
        "    vectorstore = Chroma(persist_directory=persist_directory, embedding_function=embedding_function)\n",
        "else:\n",
        "    print(\"Création d'une nouvelle base Chroma...\")\n",
        "    vectorstore = Chroma.from_documents(\n",
        "    documents=split_docs,\n",
        "    embedding=embedding_function,\n",
        "    persist_directory=persist_directory,\n",
        "    collection_name=\"hotels\",\n",
        "    )\n",
        "vectorstore.persist()\n",
        "\n",
        "# Now reload the persisted vectorstore\n",
        "vectorstore = Chroma(\n",
        "    embedding_function=embedding_function,\n",
        "    persist_directory=persist_directory,\n",
        "    collection_name=\"hotels\"\n",
        ")\n"
      ]
    },
    {
      "cell_type": "code",
      "source": [
        "print(f\"Nombre de documents indexés : {vectorstore._collection.count()}\")\n",
        "for doc in split_docs:\n",
        "    if \"medina\" in doc.page_content.lower():\n",
        "        print(doc.page_content)"
      ],
      "metadata": {
        "colab": {
          "base_uri": "https://localhost:8080/"
        },
        "id": "fSUGjHnKTX9x",
        "outputId": "e3ea1293-cf45-4964-fc4e-9c7e35ddda7d"
      },
      "execution_count": 14,
      "outputs": [
        {
          "output_type": "stream",
          "name": "stdout",
          "text": [
            "Nombre de documents indexés : 397\n",
            "Nom de l'hôtel : hotel medina.\n",
            "Localisation : Sousse.\n",
            "Prix : 75 TND par nuit.\n",
            "Note : Avec une note de 7,7.\n",
            "Caractéristiques : chambres non-fumeurs, parking, connexion wi-fi gratuite, chambres familiales, bar, très bon petit-déjeuner.\n",
            "Plages à proximité : plage de bhar ezzebla 750 m, plage de boujaafar 1,1 km, las vegas beach 4,1 km, plage du thalassa sousse 5 km, plage hammam sousse 8 km.\n",
            "Nom de l'hôtel : hotel medina.\n",
            "Localisation : Monastir.\n",
            "Prix : 75 TND par nuit.\n",
            "Note : Avec une note de 7,7.\n",
            "Caractéristiques : chambres non-fumeurs, parking, connexion wi-fi gratuite, chambres familiales, bar, très bon petit-déjeuner.\n",
            "Plages à proximité : plage de bhar ezzebla 750 m, plage de boujaafar 1,1 km, las vegas beach 4,1 km, plage du thalassa sousse 5 km, plage hammam sousse 8 km.\n",
            "Nom de l'hôtel : medina belisaire and thalasso.\n",
            "Localisation : Nabeul.\n",
            "Prix : 178 TND par nuit.\n",
            "Note : Avec une note de 8,4.\n",
            "Caractéristiques : 4 piscines, spa et centre de bien-être, navette aéroport, centre de remise en forme, chambres non-fumeurs, parking gratuit, connexion wi-fi gratuite, bar, plage privée, superbe petit-déjeuner.\n",
            "Plages à proximité : plage de yasmine hammamet 950 m, plages d'hammamet 3 km.\n",
            "Nom de l'hôtel : medina solaria and thalasso.\n",
            "Localisation : Nabeul.\n",
            "Prix : 181 TND par nuit.\n",
            "Note : Avec une note de 8,0.\n",
            "Caractéristiques : 3 piscines, navette aéroport, centre de remise en forme, chambres non-fumeurs, parking gratuit, connexion wi-fi gratuite, bar, en bord de plage, plage privée, très bon petit-déjeuner.\n",
            "Plages à proximité : plage de yasmine hammamet 500 m, plages d'hammamet 1,3 km.\n",
            "Nom de l'hôtel : dar tayeb  medina.\n",
            "Localisation : Gammarth.\n",
            "Prix : 167 TND par nuit.\n",
            "Note : Avec une note de 1,0.\n",
            "Caractéristiques : chambres non-fumeurs, chambres familiales, petit-déjeuner.\n",
            "Plages à proximité : the national bardo museum 3,3 km, salammbo tophet archaeological museum 16 km, byrsa hill 18 km, amphitheater of carthage 18 km, carthage national museum 18 km, parc de sidi bou saïd 19 km.\n",
            "Nom de l'hôtel : dar tayeb  medina.\n",
            "Localisation : Sidi Bou Saïd.\n",
            "Prix : 167 TND par nuit.\n",
            "Note : Avec une note de 1,0.\n",
            "Caractéristiques : chambres non-fumeurs, chambres familiales, petit-déjeuner.\n",
            "Plages à proximité : the national bardo museum 3,3 km, salammbo tophet archaeological museum 16 km, byrsa hill 18 km, amphitheater of carthage 18 km, carthage national museum 18 km, parc de sidi bou saïd 19 km.\n",
            "Nom de l'hôtel : dar tayeb  medina.\n",
            "Localisation : Tunis.\n",
            "Prix : 167 TND par nuit.\n",
            "Note : Avec une note de 1,0.\n",
            "Caractéristiques : chambres non-fumeurs, chambres familiales, petit-déjeuner.\n",
            "Plages à proximité : the national bardo museum 3,3 km, salammbo tophet archaeological museum 16 km, byrsa hill 18 km, amphitheater of carthage 18 km, carthage national museum 18 km, parc de sidi bou saïd 19 km.\n",
            "Nom de l'hôtel : medina belisaire and thalasso.\n",
            "Localisation : Hammamet.\n",
            "Prix : 178 TND par nuit.\n",
            "Note : Avec une note de 8,4.\n",
            "Caractéristiques : 4 piscines, spa et centre de bien-être, navette aéroport, centre de remise en forme, chambres non-fumeurs, parking gratuit, connexion wi-fi gratuite, bar, plage privée, superbe petit-déjeuner.\n",
            "Plages à proximité : plage de yasmine hammamet 950 m, plages d'hammamet 3 km.\n",
            "Nom de l'hôtel : medina solaria and thalasso.\n",
            "Localisation : Hammamet.\n",
            "Prix : 181 TND par nuit.\n",
            "Note : Avec une note de 8,0.\n",
            "Caractéristiques : 3 piscines, navette aéroport, centre de remise en forme, chambres non-fumeurs, parking gratuit, connexion wi-fi gratuite, bar, en bord de plage, plage privée, très bon petit-déjeuner.\n",
            "Plages à proximité : plage de yasmine hammamet 500 m, plages d'hammamet 1,3 km.\n"
          ]
        }
      ]
    },
    {
      "cell_type": "code",
      "execution_count": 15,
      "metadata": {
        "id": "jOb2U5e_XPIm"
      },
      "outputs": [],
      "source": [
        "llm = ChatGroq(model=\"llama-3.3-70b-versatile\", api_key=\"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\")\n",
        "\n",
        "prompt_template = PromptTemplate(\n",
        "   template=(\n",
        "        \"Tu es un assistant touristique tunisien expert en hôtels.\\n\"\n",
        "        \"Utilise uniquement les informations fournies dans le contexte ci-dessous.\\n\"\n",
        "        \"**N'invente jamais.** Si une information est absente, indique : 'Non renseigné'.\\n\\n\"\n",
        "        #- Utilise un ton professionnel et accueillant, comme un conseiller touristique expérimenté.\n",
        "        \"Contexte : {context}\\n\"\n",
        "        \"Question du client : {question}\\n\\n\"\n",
        "        \"Réponse détaillée:\"\n",
        "   ),\n",
        "   input_variables=[\"context\", \"question\"]\n",
        ")\n",
        "\n",
        "qa_chain = RetrievalQA.from_chain_type(\n",
        "   llm=llm,\n",
        "   chain_type=\"stuff\",\n",
        "   retriever=vectorstore.as_retriever(),\n",
        "   return_source_documents=True,\n",
        "   chain_type_kwargs={\"prompt\": prompt_template}\n",
        ")"
      ]
    },
    {
      "cell_type": "code",
      "source": [
        "def chatbot(query):\n",
        "    result = qa_chain({\"query\": query})\n",
        "    return result['result']\n",
        "\n",
        "iface = gr.Interface(\n",
        "    fn=chatbot,\n",
        "    inputs=gr.Textbox(lines=2, placeholder=\"Enter your question here...\"),\n",
        "    outputs=\"text\",\n",
        "    title=\"Hotel RAG Chatbot\",\n",
        ")\n",
        "\n",
        "iface.launch()"
      ],
      "metadata": {
        "colab": {
          "base_uri": "https://localhost:8080/",
          "height": 646
        },
        "id": "CVl55zULPcvO",
        "outputId": "48cbf920-3620-487f-ae45-6371ccf13e6f"
      },
      "execution_count": 16,
      "outputs": [
        {
          "output_type": "stream",
          "name": "stdout",
          "text": [
            "It looks like you are running Gradio on a hosted a Jupyter notebook. For the Gradio app to work, sharing must be enabled. Automatically setting `share=True` (you can turn this off by setting `share=False` in `launch()` explicitly).\n",
            "\n",
            "Colab notebook detected. To show errors in colab notebook, set debug=True in launch()\n",
            "* Running on public URL: https://ba3e7cdeaf45865572.gradio.live\n",
            "\n",
            "This share link expires in 1 week. For free permanent hosting and GPU upgrades, run `gradio deploy` from the terminal in the working directory to deploy to Hugging Face Spaces (https://huggingface.co/spaces)\n"
          ]
        },
        {
          "output_type": "display_data",
          "data": {
            "text/plain": [
              "<IPython.core.display.HTML object>"
            ],
            "text/html": [
              "<div><iframe src=\"https://ba3e7cdeaf45865572.gradio.live\" width=\"100%\" height=\"500\" allow=\"autoplay; camera; microphone; clipboard-read; clipboard-write;\" frameborder=\"0\" allowfullscreen></iframe></div>"
            ]
          },
          "metadata": {}
        },
        {
          "output_type": "execute_result",
          "data": {
            "text/plain": []
          },
          "metadata": {},
          "execution_count": 16
        }
      ]
    }
  ],
  "metadata": {
    "accelerator": "GPU",
    "colab": {
      "gpuType": "T4",
      "provenance": []
    },
    "kernelspec": {
      "display_name": "Python 3",
      "name": "python3"
    },
    "language_info": {
      "name": "python"
    }
  },
  "nbformat": 4,
  "nbformat_minor": 0
}